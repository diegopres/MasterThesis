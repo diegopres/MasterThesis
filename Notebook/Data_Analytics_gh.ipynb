{
 "cells": [
  {
   "cell_type": "markdown",
   "metadata": {},
   "source": [
    "# Data Analytics"
   ]
  },
  {
   "cell_type": "markdown",
   "metadata": {},
   "source": [
    "This notebook provides a step-by-step process to generate the following features:<br>\n",
    "- CQTS database analysis\n",
    "- LDA model generation\n",
    "- LDA visualization\n",
    "- Top Topic representation\n",
    "- Top Topic timeline\n",
    "- Semantic search\n",
    "<br>\n",
    "<br>\n",
    "This jupyter notebook and the provided python scripts can be modified to meet specifc requirements or solutions for every Business Unit; the process hereby is intended for generic purposes."
   ]
  },
  {
   "cell_type": "markdown",
   "metadata": {},
   "source": [
    "## Libraries"
   ]
  },
  {
   "cell_type": "markdown",
   "metadata": {},
   "source": [
    "Load the following libraries:"
   ]
  },
  {
   "cell_type": "code",
   "execution_count": 1,
   "metadata": {
    "scrolled": true
   },
   "outputs": [],
   "source": [
    "import pandas as pd\n",
    "import os\n",
    "import matplotlib.pyplot as plt\n",
    "from data_selection_interface import Data_Selection\n",
    "from report_statistics import Stats\n",
    "from top2vec import Top2Vec"
   ]
  },
  {
   "cell_type": "markdown",
   "metadata": {},
   "source": [
    "## Create Object Instances"
   ]
  },
  {
   "cell_type": "markdown",
   "metadata": {},
   "source": [
    "In the code zip package, besides this notebook there are three main .py scripts, which are described below:<br>\n",
    "- data_selection.py\n",
    "- preprocessing.py\n",
    "- generic_lda.py\n",
    "- report_statistics.py\n",
    "<br>\n",
    "We create an object instance for each class available:"
   ]
  },
  {
   "cell_type": "code",
   "execution_count": 3,
   "metadata": {},
   "outputs": [],
   "source": [
    "# Datapath to save the outputs\n",
    "output_datapath = os.getcwd() + '\\\\outputs\\\\'\n",
    "input_datapath = os.getcwd() + '\\\\outputs\\\\'\n",
    "\n",
    "data_selection = Data_Selection()\n",
    "stats = Stats()"
   ]
  },
  {
   "cell_type": "markdown",
   "metadata": {},
   "source": [
    "## Data Selection"
   ]
  },
  {
   "cell_type": "markdown",
   "metadata": {},
   "source": [
    "Here we load the xlsx files into a pandas dataframe:"
   ]
  },
  {
   "cell_type": "code",
   "execution_count": 11,
   "metadata": {},
   "outputs": [],
   "source": [
    "data_path = \"c:/Users/uidv7259/Documents/Maestria/TOG/data/\" #Modify line\n",
    "data = data_selection.select_files(data_path)"
   ]
  },
  {
   "cell_type": "markdown",
   "metadata": {},
   "source": [
    "The following lines prints a list of the available products found in the CQTS file:"
   ]
  },
  {
   "cell_type": "code",
   "execution_count": 1,
   "metadata": {},
   "outputs": [],
   "source": [
    "product_list = data_selection.show_products(data, \"C3_SEGMENT_NAME\")"
   ]
  },
  {
   "cell_type": "markdown",
   "metadata": {},
   "source": [
    "Select the segment to analyze. (products_list = None and segment = None, to include all products)"
   ]
  },
  {
   "cell_type": "code",
   "execution_count": 5,
   "metadata": {},
   "outputs": [],
   "source": [
    "data_selection.data_frame = data_selection.select_product(data = data, category = \"C3_SEGMENT_NAME\", products_list  = None,segment = None)"
   ]
  },
  {
   "cell_type": "markdown",
   "metadata": {},
   "source": [
    "Modify variable \"dpart\" according to the list provided above and \"case\" according the next list:\n",
    "1. Solution\n",
    "2. Problems\n",
    "3. Cause\n",
    "4. Problems from C method\n",
    "5. Analysis from C method"
   ]
  },
  {
   "cell_type": "markdown",
   "metadata": {},
   "source": [
    "The follwing CQTS columns are currently being considered for the cases stated above:\n"
   ]
  },
  {
   "cell_type": "code",
   "execution_count": 6,
   "metadata": {},
   "outputs": [],
   "source": [
    "#Here the DF is converted to a list of concatenated columns with the documents only\n",
    "c_problems = data_selection.select_case(data_selection.data_frame,dpart = 4)\n",
    "c_analysis = data_selection.select_case(data_selection.data_frame,dpart = 5)"
   ]
  },
  {
   "cell_type": "markdown",
   "metadata": {},
   "source": [
    "### Load model"
   ]
  },
  {
   "cell_type": "markdown",
   "metadata": {},
   "source": [
    "If model was created before, please type the name or complete path in model_name to load it:"
   ]
  },
  {
   "cell_type": "code",
   "execution_count": 19,
   "metadata": {},
   "outputs": [
    {
     "name": "stdout",
     "output_type": "stream",
     "text": [
      "WARNING:tensorflow:6 out of the last 6 calls to <function recreate_function.<locals>.restored_function_body at 0x0000021F0CEA6E58> triggered tf.function retracing. Tracing is expensive and the excessive number of tracings could be due to (1) creating @tf.function repeatedly in a loop, (2) passing tensors with different shapes, (3) passing Python objects instead of tensors. For (1), please define your @tf.function outside of the loop. For (2), @tf.function has experimental_relax_shapes=True option that relaxes argument shapes that can avoid unnecessary retracing. For (3), please refer to https://www.tensorflow.org/guide/function#controlling_retracing and https://www.tensorflow.org/api_docs/python/tf/function for  more details.\n"
     ]
    },
    {
     "name": "stderr",
     "output_type": "stream",
     "text": [
      "WARNING:tensorflow:6 out of the last 6 calls to <function recreate_function.<locals>.restored_function_body at 0x0000021F0CEA6E58> triggered tf.function retracing. Tracing is expensive and the excessive number of tracings could be due to (1) creating @tf.function repeatedly in a loop, (2) passing tensors with different shapes, (3) passing Python objects instead of tensors. For (1), please define your @tf.function outside of the loop. For (2), @tf.function has experimental_relax_shapes=True option that relaxes argument shapes that can avoid unnecessary retracing. For (3), please refer to https://www.tensorflow.org/guide/function#controlling_retracing and https://www.tensorflow.org/api_docs/python/tf/function for  more details.\n"
     ]
    }
   ],
   "source": [
    "# model_name = \"_analysis_USE_model\" #modify\n",
    "model_name = \"_problems_USE_model\"\n",
    "topic_model = Top2Vec.load(model_name)"
   ]
  },
  {
   "cell_type": "markdown",
   "metadata": {},
   "source": [
    "# Topic2Vec"
   ]
  },
  {
   "cell_type": "markdown",
   "metadata": {},
   "source": [
    "Some embedding models can be used to create the top2vec model: <br>\n",
    "- doc2vec (for large datasets and very unique vocabulary, since it will train doc2vec from scratch)\n",
    "- universal-sentence-encoder (faster since it is a pretrained model)\n",
    "- universal-sentence-encoder-multilingual\n",
    "- distiluse-base-multilingual-cased<br>\n",
    "\n",
    "Two approaches: since the vocabulary is not too large although specialized instead of using doc2vec we could use universal-sentence-encoder. This can help when adding a new document or many documents so a new training wouldn't be necessary. Investigate if it there's a significant difference between these two, because probably a doc2vec training could suit better."
   ]
  },
  {
   "cell_type": "code",
   "execution_count": 13,
   "metadata": {},
   "outputs": [
    {
     "name": "stderr",
     "output_type": "stream",
     "text": [
      "2021-01-23 14:46:31,756 - top2vec - INFO - Pre-processing documents for training\n",
      "INFO:top2vec:Pre-processing documents for training\n",
      "2021-01-23 14:46:32,348 - top2vec - INFO - Downloading universal-sentence-encoder model\n",
      "INFO:top2vec:Downloading universal-sentence-encoder model\n",
      "2021-01-23 14:46:44,218 - top2vec - INFO - Creating joint document/word embedding\n",
      "INFO:top2vec:Creating joint document/word embedding\n",
      "2021-01-23 14:46:45,962 - top2vec - INFO - Creating lower dimension embedding of documents\n",
      "INFO:top2vec:Creating lower dimension embedding of documents\n",
      "2021-01-23 14:47:07,932 - top2vec - INFO - Finding dense areas of documents\n",
      "INFO:top2vec:Finding dense areas of documents\n",
      "2021-01-23 14:47:08,064 - top2vec - INFO - Finding topics\n",
      "INFO:top2vec:Finding topics\n"
     ]
    }
   ],
   "source": [
    "topic_model = Top2Vec(documents = c_problems, embedding_model = 'universal-sentence-encoder')\n",
    "# If throws and error install: (pip install) tensorflow and tensorflow_hub  and tensorflow_text"
   ]
  },
  {
   "cell_type": "markdown",
   "metadata": {},
   "source": [
    "## Save model"
   ]
  },
  {
   "cell_type": "code",
   "execution_count": 13,
   "metadata": {},
   "outputs": [],
   "source": [
    "model_name = \"_problems_USE_model\"\n",
    "topic_model.save(\"c:/Users/uidv7259/Documents/Maestria/TOG/\" + model_name)"
   ]
  },
  {
   "cell_type": "markdown",
   "metadata": {},
   "source": [
    "## Generate WordClouds"
   ]
  },
  {
   "cell_type": "code",
   "execution_count": 14,
   "metadata": {},
   "outputs": [],
   "source": [
    "topic_words, word_scores, topic_nums = topic_model.get_topics(topic_model.get_num_topics())\n",
    "# topic_model.get_num_topics()"
   ]
  },
  {
   "cell_type": "code",
   "execution_count": null,
   "metadata": {},
   "outputs": [],
   "source": []
  },
  {
   "cell_type": "code",
   "execution_count": 2,
   "metadata": {
    "scrolled": true
   },
   "outputs": [],
   "source": [
    "for topic in topic_nums[:5]:\n",
    "    topic_model.generate_topic_wordcloud(topic)"
   ]
  },
  {
   "cell_type": "markdown",
   "metadata": {},
   "source": [
    "In the following line we can print the number of documents each topic represents:"
   ]
  },
  {
   "cell_type": "code",
   "execution_count": 17,
   "metadata": {},
   "outputs": [
    {
     "name": "stdout",
     "output_type": "stream",
     "text": [
      "Topic 0 has: 361 documents\n",
      "Topic 1 has: 254 documents\n",
      "Topic 2 has: 180 documents\n",
      "Topic 3 has: 161 documents\n",
      "Topic 4 has: 156 documents\n",
      "Topic 5 has: 154 documents\n",
      "Topic 6 has: 116 documents\n",
      "Topic 7 has: 114 documents\n",
      "Topic 8 has: 111 documents\n",
      "Topic 9 has: 105 documents\n",
      "Topic 10 has: 103 documents\n",
      "Topic 11 has: 97 documents\n",
      "Topic 12 has: 87 documents\n",
      "Topic 13 has: 84 documents\n",
      "Topic 14 has: 79 documents\n",
      "Topic 15 has: 75 documents\n",
      "Topic 16 has: 75 documents\n",
      "Topic 17 has: 74 documents\n",
      "Topic 18 has: 70 documents\n",
      "Topic 19 has: 69 documents\n",
      "Topic 20 has: 67 documents\n",
      "Topic 21 has: 61 documents\n",
      "Topic 22 has: 60 documents\n",
      "Topic 23 has: 59 documents\n",
      "Topic 24 has: 57 documents\n",
      "Topic 25 has: 57 documents\n",
      "Topic 26 has: 57 documents\n",
      "Topic 27 has: 56 documents\n",
      "Topic 28 has: 55 documents\n",
      "Topic 29 has: 53 documents\n",
      "Topic 30 has: 53 documents\n",
      "Topic 31 has: 47 documents\n",
      "Topic 32 has: 46 documents\n",
      "Topic 33 has: 45 documents\n",
      "Topic 34 has: 45 documents\n",
      "Topic 35 has: 45 documents\n",
      "Topic 36 has: 43 documents\n",
      "Topic 37 has: 43 documents\n",
      "Topic 38 has: 42 documents\n",
      "Topic 39 has: 40 documents\n",
      "Topic 40 has: 35 documents\n",
      "Topic 41 has: 30 documents\n",
      "Topic 42 has: 30 documents\n",
      "Topic 43 has: 30 documents\n",
      "Topic 44 has: 28 documents\n",
      "Topic 45 has: 27 documents\n",
      "Topic 46 has: 27 documents\n",
      "Topic 47 has: 26 documents\n",
      "Topic 48 has: 25 documents\n",
      "Topic 49 has: 24 documents\n",
      "Topic 50 has: 22 documents\n",
      "Topic 51 has: 22 documents\n",
      "Topic 52 has: 21 documents\n"
     ]
    }
   ],
   "source": [
    "topic_sizes, topic_nums = topic_model.get_topic_sizes()\n",
    "for i, size in enumerate(topic_sizes):\n",
    "    print(\"Topic\",i,\"has:\", size, \"documents\")"
   ]
  },
  {
   "cell_type": "markdown",
   "metadata": {},
   "source": [
    "We can also show some of the documents that are represented by the topic to have a better understanding. You can modify the variable \"topic\" depending of the document cluster you want to look at."
   ]
  },
  {
   "cell_type": "code",
   "execution_count": 3,
   "metadata": {},
   "outputs": [],
   "source": [
    "topic = 0 #Modify\n",
    "documents, document_scores, document_ids = topic_model.search_documents_by_topic(topic_num=0,num_docs=topic_sizes[1])\n",
    "for doc, score, doc_id in zip(documents, document_scores, document_ids):\n",
    "    print(f\"Document: {doc_id}, Score: {score}\")\n",
    "    print(\"-----------\")\n",
    "    print(doc)\n",
    "    print(\"-----------\")\n",
    "    print()"
   ]
  },
  {
   "cell_type": "markdown",
   "metadata": {},
   "source": [
    "## Timeline plots"
   ]
  },
  {
   "cell_type": "markdown",
   "metadata": {},
   "source": [
    "On this section we'll plot first the number of the issues through time and second their correlation with the topics we got from the model. In two lines you can modify how you want to resample the data: 'D': daily, 'M': monthly, etc."
   ]
  },
  {
   "cell_type": "code",
   "execution_count": 28,
   "metadata": {},
   "outputs": [],
   "source": [
    "stats.data_frame =  data_selection.data_frame"
   ]
  },
  {
   "cell_type": "code",
   "execution_count": 29,
   "metadata": {},
   "outputs": [
    {
     "data": {
      "image/png": "[encoded data removed]",
      "text/plain": [
       "<Figure size 1440x720 with 1 Axes>"
      ]
     },
     "metadata": {
      "needs_background": "light"
     },
     "output_type": "display_data"
    }
   ],
   "source": [
    "stats.get_statistics('M') #Modify line: 'D':daily, 'M': monthly, etc"
   ]
  },
  {
   "cell_type": "code",
   "execution_count": 30,
   "metadata": {},
   "outputs": [],
   "source": [
    "topics_list = []\n",
    "def get_counts(series):\n",
    "    if series.any():\n",
    "        series = list(series)\n",
    "        temp_list = [series.count(i) for i in range(5)]\n",
    "        topics_list.append(temp_list)"
   ]
  },
  {
   "cell_type": "code",
   "execution_count": 31,
   "metadata": {},
   "outputs": [
    {
     "name": "stderr",
     "output_type": "stream",
     "text": [
      "C:\\Users\\uidv7259\\Anaconda3\\lib\\site-packages\\ipykernel_launcher.py:8: SettingWithCopyWarning: \n",
      "A value is trying to be set on a copy of a slice from a DataFrame.\n",
      "Try using .loc[row_indexer,col_indexer] = value instead\n",
      "\n",
      "See the caveats in the documentation: https://pandas.pydata.org/pandas-docs/stable/user_guide/indexing.html#returning-a-view-versus-a-copy\n",
      "  \n",
      "C:\\Users\\uidv7259\\Anaconda3\\lib\\site-packages\\ipykernel_launcher.py:9: SettingWithCopyWarning: \n",
      "A value is trying to be set on a copy of a slice from a DataFrame.\n",
      "Try using .loc[row_indexer,col_indexer] = value instead\n",
      "\n",
      "See the caveats in the documentation: https://pandas.pydata.org/pandas-docs/stable/user_guide/indexing.html#returning-a-view-versus-a-copy\n",
      "  if __name__ == '__main__':\n"
     ]
    },
    {
     "data": {
      "text/html": [
       "<div>\n",
       "<style scoped>\n",
       "    .dataframe tbody tr th:only-of-type {\n",
       "        vertical-align: middle;\n",
       "    }\n",
       "\n",
       "    .dataframe tbody tr th {\n",
       "        vertical-align: top;\n",
       "    }\n",
       "\n",
       "    .dataframe thead th {\n",
       "        text-align: right;\n",
       "    }\n",
       "</style>\n",
       "<table border=\"1\" class=\"dataframe\">\n",
       "  <thead>\n",
       "    <tr style=\"text-align: right;\">\n",
       "      <th></th>\n",
       "      <th>C1_REGISTRATION_DATE</th>\n",
       "      <th>TOPIC</th>\n",
       "    </tr>\n",
       "  </thead>\n",
       "  <tbody>\n",
       "    <tr>\n",
       "      <th>95</th>\n",
       "      <td>2017-01-02</td>\n",
       "      <td>3</td>\n",
       "    </tr>\n",
       "    <tr>\n",
       "      <th>93</th>\n",
       "      <td>2017-01-02</td>\n",
       "      <td>0</td>\n",
       "    </tr>\n",
       "    <tr>\n",
       "      <th>94</th>\n",
       "      <td>2017-01-02</td>\n",
       "      <td>2</td>\n",
       "    </tr>\n",
       "    <tr>\n",
       "      <th>92</th>\n",
       "      <td>2017-01-02</td>\n",
       "      <td>0</td>\n",
       "    </tr>\n",
       "    <tr>\n",
       "      <th>202</th>\n",
       "      <td>2017-01-03</td>\n",
       "      <td>5</td>\n",
       "    </tr>\n",
       "  </tbody>\n",
       "</table>\n",
       "</div>"
      ],
      "text/plain": [
       "    C1_REGISTRATION_DATE  TOPIC\n",
       "95            2017-01-02      3\n",
       "93            2017-01-02      0\n",
       "94            2017-01-02      2\n",
       "92            2017-01-02      0\n",
       "202           2017-01-03      5"
      ]
     },
     "execution_count": 31,
     "metadata": {},
     "output_type": "execute_result"
    }
   ],
   "source": [
    "resample = 'M' #Modify line\n",
    "n_topics = 5 #Modify line\n",
    "\n",
    "size = len(data)\n",
    "docs_id_range = list(range(size))\n",
    "topic_nums, _, _,_ = topic_model.get_documents_topics(doc_ids =docs_id_range)\n",
    "df = data[['C1_REGISTRATION_DATE']]\n",
    "df['C1_REGISTRATION_DATE'] = pd.to_datetime(df['C1_REGISTRATION_DATE'])\n",
    "df['TOPIC'] = pd.Series(topic_nums)\n",
    "df = df.sort_values(by = ['C1_REGISTRATION_DATE'])\n",
    "df.head()"
   ]
  },
  {
   "cell_type": "code",
   "execution_count": 32,
   "metadata": {},
   "outputs": [
    {
     "data": {
      "text/html": [
       "<div>\n",
       "<style scoped>\n",
       "    .dataframe tbody tr th:only-of-type {\n",
       "        vertical-align: middle;\n",
       "    }\n",
       "\n",
       "    .dataframe tbody tr th {\n",
       "        vertical-align: top;\n",
       "    }\n",
       "\n",
       "    .dataframe thead th {\n",
       "        text-align: right;\n",
       "    }\n",
       "</style>\n",
       "<table border=\"1\" class=\"dataframe\">\n",
       "  <thead>\n",
       "    <tr style=\"text-align: right;\">\n",
       "      <th></th>\n",
       "      <th>0</th>\n",
       "      <th>1</th>\n",
       "      <th>2</th>\n",
       "      <th>3</th>\n",
       "      <th>4</th>\n",
       "    </tr>\n",
       "    <tr>\n",
       "      <th>C1_REGISTRATION_DATE</th>\n",
       "      <th></th>\n",
       "      <th></th>\n",
       "      <th></th>\n",
       "      <th></th>\n",
       "      <th></th>\n",
       "    </tr>\n",
       "  </thead>\n",
       "  <tbody>\n",
       "    <tr>\n",
       "      <th>2017-01-31</th>\n",
       "      <td>33</td>\n",
       "      <td>11</td>\n",
       "      <td>2</td>\n",
       "      <td>10</td>\n",
       "      <td>0</td>\n",
       "    </tr>\n",
       "    <tr>\n",
       "      <th>2017-02-28</th>\n",
       "      <td>16</td>\n",
       "      <td>2</td>\n",
       "      <td>3</td>\n",
       "      <td>2</td>\n",
       "      <td>0</td>\n",
       "    </tr>\n",
       "    <tr>\n",
       "      <th>2017-03-31</th>\n",
       "      <td>36</td>\n",
       "      <td>7</td>\n",
       "      <td>8</td>\n",
       "      <td>4</td>\n",
       "      <td>1</td>\n",
       "    </tr>\n",
       "    <tr>\n",
       "      <th>2017-04-30</th>\n",
       "      <td>18</td>\n",
       "      <td>5</td>\n",
       "      <td>4</td>\n",
       "      <td>1</td>\n",
       "      <td>0</td>\n",
       "    </tr>\n",
       "    <tr>\n",
       "      <th>2017-05-31</th>\n",
       "      <td>48</td>\n",
       "      <td>13</td>\n",
       "      <td>3</td>\n",
       "      <td>12</td>\n",
       "      <td>0</td>\n",
       "    </tr>\n",
       "  </tbody>\n",
       "</table>\n",
       "</div>"
      ],
      "text/plain": [
       "                       0   1  2   3  4\n",
       "C1_REGISTRATION_DATE                  \n",
       "2017-01-31            33  11  2  10  0\n",
       "2017-02-28            16   2  3   2  0\n",
       "2017-03-31            36   7  8   4  1\n",
       "2017-04-30            18   5  4   1  0\n",
       "2017-05-31            48  13  3  12  0"
      ]
     },
     "execution_count": 32,
     "metadata": {},
     "output_type": "execute_result"
    }
   ],
   "source": [
    "df.set_index(['C1_REGISTRATION_DATE'], inplace = True)\n",
    "df_topics = df.resample(resample).apply(get_counts)\n",
    "topics_only_df = pd.DataFrame(topics_list, columns=['0','1','2','3','4'])\n",
    "df_topics = df_topics.reset_index()\n",
    "df_topics = pd.concat([df_topics, topics_only_df], axis = 1)\n",
    "df_topics = df_topics.drop(['TOPIC'], axis = 1)\n",
    "df_topics.set_index(['C1_REGISTRATION_DATE'], inplace = True)\n",
    "df_topics.head()"
   ]
  },
  {
   "cell_type": "code",
   "execution_count": 33,
   "metadata": {},
   "outputs": [
    {
     "data": {
      "image/png": "[encoded data removed]",
      "text/plain": [
       "<Figure size 1440x720 with 1 Axes>"
      ]
     },
     "metadata": {
      "needs_background": "light"
     },
     "output_type": "display_data"
    }
   ],
   "source": [
    "df_topics.plot(figsize=(20,10));"
   ]
  },
  {
   "cell_type": "markdown",
   "metadata": {},
   "source": [
    "## Document Search"
   ]
  },
  {
   "cell_type": "markdown",
   "metadata": {},
   "source": [
    "Here we can find a similar problem/solution based on the query data_analysis_predict. As we are working with topic modeling and in order to have better results the queries should be long to get more topics for the search. \n",
    "\n"
   ]
  },
  {
   "cell_type": "code",
   "execution_count": 4,
   "metadata": {},
   "outputs": [],
   "source": [
    "search_query = ['Example---']\n",
    "\n",
    "topic_model.add_documents(search_query)"
   ]
  },
  {
   "cell_type": "code",
   "execution_count": 14,
   "metadata": {},
   "outputs": [],
   "source": [
    "# c_problems[3903]"
   ]
  },
  {
   "cell_type": "code",
   "execution_count": 5,
   "metadata": {},
   "outputs": [],
   "source": [
    "similar_docs, similar_score, docs_ids = topic_model.search_documents_by_documents(doc_ids = [3903], num_docs = 5)\n",
    "for doc, score, doc_id in zip(similar_docs, similar_score, docs_ids):\n",
    "    print(f\"Issue: {doc_id}, Score: {score}\")\n",
    "    print(\"-----------\")\n",
    "    print(doc)\n",
    "    print(\"-----------\")\n",
    "    print()"
   ]
  },
  {
   "cell_type": "code",
   "execution_count": 6,
   "metadata": {},
   "outputs": [],
   "source": [
    "similar_docs, similar_score, docs_ids = topic_model.search_documents_by_documents(doc_ids = [3903], num_docs = 5)\n",
    "for doc, score, doc_id in zip(similar_docs, similar_score, docs_ids):\n",
    "    print(f\"Issue: {doc_id}, Score: {score}\")\n",
    "    print(\"-----------\")\n",
    "    print(doc)\n",
    "    print(\"-----------\")\n",
    "    print()"
   ]
  },
  {
   "cell_type": "code",
   "execution_count": 18,
   "metadata": {},
   "outputs": [],
   "source": [
    "# topic_num, topic_score, topic_words , words_score = topic_model.get_documents_topics(doc_ids = [3903])\n",
    "# print(topic_num, topic_score)"
   ]
  },
  {
   "cell_type": "markdown",
   "metadata": {},
   "source": [
    "similar_prob_docs = 41 1471 2148 1154  838 <br>\n",
    "similar_analysis_docs = 2544 3166 3472 1592 2952"
   ]
  },
  {
   "cell_type": "code",
   "execution_count": 7,
   "metadata": {},
   "outputs": [],
   "source": [
    "docs, doc_scores, doc_ids = topic_model.search_documents_by_keywords([\"battery\"], 5)\n",
    "print(docs, doc_scores, doc_ids)"
   ]
  },
  {
   "cell_type": "code",
   "execution_count": null,
   "metadata": {},
   "outputs": [],
   "source": []
  },
  {
   "cell_type": "markdown",
   "metadata": {},
   "source": [
    "# Merge Topics to Data Frame"
   ]
  },
  {
   "cell_type": "markdown",
   "metadata": {},
   "source": [
    "On this section, we generate the csv files with the specific information to be imported in Neo4j"
   ]
  },
  {
   "cell_type": "markdown",
   "metadata": {},
   "source": [
    "## General Info"
   ]
  },
  {
   "cell_type": "code",
   "execution_count": 27,
   "metadata": {},
   "outputs": [],
   "source": [
    "#Columns to export to Neo4j besides topics\n",
    "columns_to_export = ['C3_ANALYSIS_PLANT_NAME',\n",
    "'C1_COMPLAINT_TYP_DESC',\n",
    "'C1_CUSTOMER_INCIDENT_DATE',\n",
    "'C1_QN_NO',\n",
    "'C1_REGISTRATION_DATE',\n",
    "'C3_CUSTOMER_FAILED_DATE',\n",
    "'C3_HARDWARE_INDEX',\n",
    "'C3_SERIAL_NO',\n",
    "'C3_SOFTWARE_INDEX',\n",
    "'C3_COMM_DECISION_ACCEPTED_DESC',\n",
    "'C3_COMM_DECISION_REJECTED_DESC',\n",
    "'C3_VIN',\n",
    "'C3_VIN_COUNTER',\n",
    "'C4_FINAL_ANALYSIS_RESULT',\n",
    "'C4_DEFECT_CODING_L1_DESC',\n",
    "'C4_DEFECT_CODING_L2_DESC',\n",
    "'C4_DEFECT_CODING_L3_DESC',\n",
    "'C4_DEFECT_CODING_L4_DESC',\n",
    "'C3_COMPLAINT_DESC',\n",
    "'C3_PPM_INCIDENT_PLANT_NAME',\n",
    "'C3_PRODUCTION_PLANT_NAME',\n",
    "'C1_REGISTRATION_LOCATION_NAME',\n",
    "'C3_SEGMENT_NAME',\n",
    "'C4_SOURCE_OF_DEFECT_DESC',\n",
    "'C1_SUB_CAT_DESC',\n",
    "'C3_SUB_SEGMENT_NAME',\n",
    "'C3_MODEL_YEAR',\n",
    "'C3_VEHICLE_MODEL',\n",
    "'C3_VEHICLE_PLATFORM']\n",
    "\n",
    "neo_df = data[columns_to_export]\n",
    "neo_df = neo_df.reset_index()"
   ]
  },
  {
   "cell_type": "code",
   "execution_count": 32,
   "metadata": {},
   "outputs": [],
   "source": [
    "neo_df['C4_FINAL_ANALYSIS_RESULT'] = neo_df['C4_FINAL_ANALYSIS_RESULT'].apply(lambda x: str(x).replace('\\n', \" \"))"
   ]
  },
  {
   "cell_type": "code",
   "execution_count": 34,
   "metadata": {},
   "outputs": [],
   "source": [
    "neo_df.to_csv(output_datapath + \"_General_Info.csv\",index=False, mode='a')"
   ]
  },
  {
   "cell_type": "code",
   "execution_count": 8,
   "metadata": {},
   "outputs": [],
   "source": [
    "# neo_df['C4_FINAL_ANALYSIS_RESULT'][0]"
   ]
  },
  {
   "cell_type": "code",
   "execution_count": 26,
   "metadata": {},
   "outputs": [],
   "source": [
    "only_analysis = neo_df[['index', 'C4_FINAL_ANALYSIS_RESULT']]\n",
    "only_analysis.to_csv(output_datapath + \"_Analyisis.csv\",index=False, mode='a')"
   ]
  },
  {
   "cell_type": "markdown",
   "metadata": {},
   "source": [
    "## Problem Topic"
   ]
  },
  {
   "cell_type": "code",
   "execution_count": 21,
   "metadata": {},
   "outputs": [
    {
     "name": "stderr",
     "output_type": "stream",
     "text": [
      "C:\\Users\\uidv7259\\Anaconda3\\lib\\site-packages\\ipykernel_launcher.py:6: SettingWithCopyWarning: \n",
      "A value is trying to be set on a copy of a slice from a DataFrame.\n",
      "Try using .loc[row_indexer,col_indexer] = value instead\n",
      "\n",
      "See the caveats in the documentation: https://pandas.pydata.org/pandas-docs/stable/user_guide/indexing.html#returning-a-view-versus-a-copy\n",
      "  \n",
      "C:\\Users\\uidv7259\\Anaconda3\\lib\\site-packages\\ipykernel_launcher.py:7: SettingWithCopyWarning: \n",
      "A value is trying to be set on a copy of a slice from a DataFrame.\n",
      "Try using .loc[row_indexer,col_indexer] = value instead\n",
      "\n",
      "See the caveats in the documentation: https://pandas.pydata.org/pandas-docs/stable/user_guide/indexing.html#returning-a-view-versus-a-copy\n",
      "  import sys\n"
     ]
    }
   ],
   "source": [
    "neo_df_problems = neo_df[['index']]\n",
    "size = len(data)#\n",
    "docs_id_range = list(range(size))\n",
    "\n",
    "topic_nums, topic_score, _,_ = topic_model.get_documents_topics(doc_ids =docs_id_range)\n",
    "neo_df_problems['Problems_Topic'] = topic_nums\n",
    "neo_df_problems['Problems_Topic_Score'] = topic_score\n",
    "neo_df_problems['Problems_Topic_Score'] = topic_score"
   ]
  },
  {
   "cell_type": "code",
   "execution_count": 22,
   "metadata": {},
   "outputs": [
    {
     "data": {
      "text/html": [
       "<div>\n",
       "<style scoped>\n",
       "    .dataframe tbody tr th:only-of-type {\n",
       "        vertical-align: middle;\n",
       "    }\n",
       "\n",
       "    .dataframe tbody tr th {\n",
       "        vertical-align: top;\n",
       "    }\n",
       "\n",
       "    .dataframe thead th {\n",
       "        text-align: right;\n",
       "    }\n",
       "</style>\n",
       "<table border=\"1\" class=\"dataframe\">\n",
       "  <thead>\n",
       "    <tr style=\"text-align: right;\">\n",
       "      <th></th>\n",
       "      <th>index</th>\n",
       "      <th>Problems_Topic</th>\n",
       "      <th>Problems_Topic_Score</th>\n",
       "    </tr>\n",
       "  </thead>\n",
       "  <tbody>\n",
       "    <tr>\n",
       "      <th>0</th>\n",
       "      <td>0</td>\n",
       "      <td>2</td>\n",
       "      <td>0.819867</td>\n",
       "    </tr>\n",
       "    <tr>\n",
       "      <th>1</th>\n",
       "      <td>1</td>\n",
       "      <td>2</td>\n",
       "      <td>0.703105</td>\n",
       "    </tr>\n",
       "    <tr>\n",
       "      <th>2</th>\n",
       "      <td>2</td>\n",
       "      <td>2</td>\n",
       "      <td>0.823502</td>\n",
       "    </tr>\n",
       "    <tr>\n",
       "      <th>3</th>\n",
       "      <td>3</td>\n",
       "      <td>34</td>\n",
       "      <td>0.647758</td>\n",
       "    </tr>\n",
       "    <tr>\n",
       "      <th>4</th>\n",
       "      <td>4</td>\n",
       "      <td>7</td>\n",
       "      <td>0.833210</td>\n",
       "    </tr>\n",
       "  </tbody>\n",
       "</table>\n",
       "</div>"
      ],
      "text/plain": [
       "   index  Problems_Topic  Problems_Topic_Score\n",
       "0      0               2              0.819867\n",
       "1      1               2              0.703105\n",
       "2      2               2              0.823502\n",
       "3      3              34              0.647758\n",
       "4      4               7              0.833210"
      ]
     },
     "execution_count": 22,
     "metadata": {},
     "output_type": "execute_result"
    }
   ],
   "source": [
    "neo_df_problems.head()"
   ]
  },
  {
   "cell_type": "code",
   "execution_count": 23,
   "metadata": {},
   "outputs": [],
   "source": [
    "neo_df_problems.to_csv(output_datapath + \"_Problem_Topics.csv\")"
   ]
  },
  {
   "cell_type": "code",
   "execution_count": null,
   "metadata": {},
   "outputs": [],
   "source": []
  },
  {
   "cell_type": "markdown",
   "metadata": {},
   "source": [
    "## Analysis Topic"
   ]
  },
  {
   "cell_type": "code",
   "execution_count": 25,
   "metadata": {},
   "outputs": [
    {
     "name": "stderr",
     "output_type": "stream",
     "text": [
      "C:\\Users\\uidv7259\\Anaconda3\\lib\\site-packages\\ipykernel_launcher.py:5: SettingWithCopyWarning: \n",
      "A value is trying to be set on a copy of a slice from a DataFrame.\n",
      "Try using .loc[row_indexer,col_indexer] = value instead\n",
      "\n",
      "See the caveats in the documentation: https://pandas.pydata.org/pandas-docs/stable/user_guide/indexing.html#returning-a-view-versus-a-copy\n",
      "  \"\"\"\n",
      "C:\\Users\\uidv7259\\Anaconda3\\lib\\site-packages\\ipykernel_launcher.py:6: SettingWithCopyWarning: \n",
      "A value is trying to be set on a copy of a slice from a DataFrame.\n",
      "Try using .loc[row_indexer,col_indexer] = value instead\n",
      "\n",
      "See the caveats in the documentation: https://pandas.pydata.org/pandas-docs/stable/user_guide/indexing.html#returning-a-view-versus-a-copy\n",
      "  \n"
     ]
    }
   ],
   "source": [
    "neo_df_analysis = neo_df[['index']]\n",
    "size = len(data)#\n",
    "docs_id_range = list(range(size))\n",
    "topic_nums, topic_score, _,_ = topic_model.get_documents_topics(doc_ids =docs_id_range)\n",
    "neo_df_analysis['Analysis_Topic'] = topic_nums\n",
    "neo_df_analysis['Analysis_Topic_Score'] = topic_score"
   ]
  },
  {
   "cell_type": "code",
   "execution_count": 26,
   "metadata": {},
   "outputs": [
    {
     "data": {
      "text/html": [
       "<div>\n",
       "<style scoped>\n",
       "    .dataframe tbody tr th:only-of-type {\n",
       "        vertical-align: middle;\n",
       "    }\n",
       "\n",
       "    .dataframe tbody tr th {\n",
       "        vertical-align: top;\n",
       "    }\n",
       "\n",
       "    .dataframe thead th {\n",
       "        text-align: right;\n",
       "    }\n",
       "</style>\n",
       "<table border=\"1\" class=\"dataframe\">\n",
       "  <thead>\n",
       "    <tr style=\"text-align: right;\">\n",
       "      <th></th>\n",
       "      <th>index</th>\n",
       "      <th>Analysis_Topic</th>\n",
       "      <th>Analysis_Topic_Score</th>\n",
       "    </tr>\n",
       "  </thead>\n",
       "  <tbody>\n",
       "    <tr>\n",
       "      <th>0</th>\n",
       "      <td>0</td>\n",
       "      <td>6</td>\n",
       "      <td>0.844486</td>\n",
       "    </tr>\n",
       "    <tr>\n",
       "      <th>1</th>\n",
       "      <td>1</td>\n",
       "      <td>6</td>\n",
       "      <td>0.842876</td>\n",
       "    </tr>\n",
       "    <tr>\n",
       "      <th>2</th>\n",
       "      <td>2</td>\n",
       "      <td>0</td>\n",
       "      <td>0.834482</td>\n",
       "    </tr>\n",
       "    <tr>\n",
       "      <th>3</th>\n",
       "      <td>3</td>\n",
       "      <td>7</td>\n",
       "      <td>0.812580</td>\n",
       "    </tr>\n",
       "    <tr>\n",
       "      <th>4</th>\n",
       "      <td>4</td>\n",
       "      <td>2</td>\n",
       "      <td>0.793213</td>\n",
       "    </tr>\n",
       "  </tbody>\n",
       "</table>\n",
       "</div>"
      ],
      "text/plain": [
       "   index  Analysis_Topic  Analysis_Topic_Score\n",
       "0      0               6              0.844486\n",
       "1      1               6              0.842876\n",
       "2      2               0              0.834482\n",
       "3      3               7              0.812580\n",
       "4      4               2              0.793213"
      ]
     },
     "execution_count": 26,
     "metadata": {},
     "output_type": "execute_result"
    }
   ],
   "source": [
    "neo_df_analysis.head()"
   ]
  },
  {
   "cell_type": "code",
   "execution_count": 27,
   "metadata": {},
   "outputs": [],
   "source": [
    "neo_df_analysis.to_csv(output_datapath + \"_Analysis_Topics.csv\")"
   ]
  },
  {
   "cell_type": "markdown",
   "metadata": {},
   "source": [
    "# Exploration"
   ]
  },
  {
   "cell_type": "code",
   "execution_count": 74,
   "metadata": {},
   "outputs": [
    {
     "name": "stderr",
     "output_type": "stream",
     "text": [
      "C:\\Users\\uidv7259\\Anaconda3\\lib\\site-packages\\ipykernel_launcher.py:2: SettingWithCopyWarning: \n",
      "A value is trying to be set on a copy of a slice from a DataFrame.\n",
      "Try using .loc[row_indexer,col_indexer] = value instead\n",
      "\n",
      "See the caveats in the documentation: https://pandas.pydata.org/pandas-docs/stable/user_guide/indexing.html#returning-a-view-versus-a-copy\n",
      "  \n"
     ]
    },
    {
     "data": {
      "text/plain": [
       "array(['OK Part', 'Customer', 'External Supplier', 'Production', 'NTF',\n",
       "       'Defect not identified', 'Development',\n",
       "       'Internal Supplier (IC/IP)', 'SCM / Logistics'], dtype=object)"
      ]
     },
     "execution_count": 74,
     "metadata": {},
     "output_type": "execute_result"
    }
   ],
   "source": [
    "df = data_selection.data_frame[['C4_SOURCE_OF_DEFECT_DESC']]\n",
    "df['PROBLEMS'] = c_problems\n",
    "df = df.dropna()\n",
    "df['C4_SOURCE_OF_DEFECT_DESC'].unique() #C4_DEFECT_CODING_L1_DESC"
   ]
  },
  {
   "cell_type": "code",
   "execution_count": 75,
   "metadata": {},
   "outputs": [
    {
     "name": "stdout",
     "output_type": "stream",
     "text": [
      "9\n"
     ]
    }
   ],
   "source": [
    "n = len(df['C4_SOURCE_OF_DEFECT_DESC'].unique())\n",
    "print(n)"
   ]
  },
  {
   "cell_type": "code",
   "execution_count": 42,
   "metadata": {},
   "outputs": [],
   "source": [
    "from sklearn import preprocessing\n",
    "from sklearn.model_selection import train_test_split\n",
    "import tensorflow as tf\n",
    "import numpy as np"
   ]
  },
  {
   "cell_type": "code",
   "execution_count": 76,
   "metadata": {},
   "outputs": [
    {
     "data": {
      "text/plain": [
       "LabelEncoder()"
      ]
     },
     "execution_count": 76,
     "metadata": {},
     "output_type": "execute_result"
    }
   ],
   "source": [
    "le = preprocessing.LabelEncoder()\n",
    "le.fit(df['C4_SOURCE_OF_DEFECT_DESC'].tolist())\n",
    "# df['thal'] = pd.Categorical(df['thal'])\n",
    "# df['thal'] = df.thal.cat.codes"
   ]
  },
  {
   "cell_type": "code",
   "execution_count": 77,
   "metadata": {},
   "outputs": [],
   "source": [
    "df['C4_SOURCE_OF_DEFECT_DESC_ENC'] = le.transform(df['C4_SOURCE_OF_DEFECT_DESC'].tolist())"
   ]
  },
  {
   "cell_type": "code",
   "execution_count": 78,
   "metadata": {},
   "outputs": [],
   "source": [
    "x_train, x_test, y_train, y_test = train_test_split(df['PROBLEMS'], df['C4_SOURCE_OF_DEFECT_DESC_ENC'],test_size=0.2, random_state=42)"
   ]
  },
  {
   "cell_type": "code",
   "execution_count": 79,
   "metadata": {},
   "outputs": [],
   "source": [
    "train_dataset = tf.data.Dataset.from_tensor_slices((x_train, y_train))\n",
    "test_dataset = tf.data.Dataset.from_tensor_slices((x_test, y_test))"
   ]
  },
  {
   "cell_type": "code",
   "execution_count": 80,
   "metadata": {},
   "outputs": [],
   "source": [
    "BUFFER_SIZE = 10000\n",
    "BATCH_SIZE = 64\n",
    "\n",
    "train_dataset = train_dataset.shuffle(BUFFER_SIZE).batch(BATCH_SIZE).prefetch(tf.data.AUTOTUNE)\n",
    "test_dataset = test_dataset.batch(BATCH_SIZE).prefetch(tf.data.AUTOTUNE)"
   ]
  },
  {
   "cell_type": "code",
   "execution_count": 9,
   "metadata": {},
   "outputs": [],
   "source": [
    "for example, label in train_dataset.take(1):\n",
    "    print('texts: ', example.numpy()[:3])\n",
    "    print()\n",
    "    print('labels: ', label.numpy()[:3])"
   ]
  },
  {
   "cell_type": "code",
   "execution_count": 81,
   "metadata": {},
   "outputs": [],
   "source": [
    "VOCAB_SIZE = 1000\n",
    "encoder = tf.keras.layers.experimental.preprocessing.TextVectorization(max_tokens = VOCAB_SIZE)\n",
    "encoder.adapt(train_dataset.map(lambda text, label: text))"
   ]
  },
  {
   "cell_type": "code",
   "execution_count": 10,
   "metadata": {},
   "outputs": [],
   "source": [
    "vocab = np.array(encoder.get_vocabulary())\n",
    "vocab[:20]"
   ]
  },
  {
   "cell_type": "code",
   "execution_count": 82,
   "metadata": {},
   "outputs": [],
   "source": [
    "model = tf.keras.Sequential([\n",
    "    encoder,\n",
    "    tf.keras.layers.Embedding(\n",
    "    input_dim = len(encoder.get_vocabulary()),\n",
    "    output_dim = 64,\n",
    "    mask_zero = True),\n",
    "    tf.keras.layers.Bidirectional(tf.keras.layers.LSTM(64)),\n",
    "    tf.keras.layers.Dense(64, activation = 'relu'),\n",
    "    tf.keras.layers.Dense(n, activation ='softmax')\n",
    "])"
   ]
  },
  {
   "cell_type": "code",
   "execution_count": 83,
   "metadata": {},
   "outputs": [],
   "source": [
    "model.compile(optimizer='Adam',loss='sparse_categorical_crossentropy',metrics=[\"accuracy\"])"
   ]
  },
  {
   "cell_type": "code",
   "execution_count": 84,
   "metadata": {},
   "outputs": [
    {
     "name": "stdout",
     "output_type": "stream",
     "text": [
      "Epoch 1/20\n",
      "49/49 [==============================] - 28s 340ms/step - loss: 2.0371 - accuracy: 0.3084 - val_loss: 1.7270 - val_accuracy: 0.3483\n",
      "Epoch 2/20\n",
      "49/49 [==============================] - 13s 273ms/step - loss: 1.6674 - accuracy: 0.3764 - val_loss: 1.6241 - val_accuracy: 0.3700\n",
      "Epoch 3/20\n",
      "49/49 [==============================] - 14s 292ms/step - loss: 1.5120 - accuracy: 0.4407 - val_loss: 1.5852 - val_accuracy: 0.3790\n",
      "Epoch 4/20\n",
      "49/49 [==============================] - 16s 329ms/step - loss: 1.3972 - accuracy: 0.4785 - val_loss: 1.5944 - val_accuracy: 0.3841\n",
      "Epoch 5/20\n",
      "49/49 [==============================] - 16s 318ms/step - loss: 1.3299 - accuracy: 0.5149 - val_loss: 1.5854 - val_accuracy: 0.3739\n",
      "Epoch 6/20\n",
      "49/49 [==============================] - 14s 287ms/step - loss: 1.2574 - accuracy: 0.5335 - val_loss: 1.6056 - val_accuracy: 0.4020\n",
      "Epoch 7/20\n",
      "49/49 [==============================] - 13s 256ms/step - loss: 1.1281 - accuracy: 0.5906 - val_loss: 1.5965 - val_accuracy: 0.3956\n",
      "Epoch 8/20\n",
      "49/49 [==============================] - 14s 280ms/step - loss: 1.0447 - accuracy: 0.6325 - val_loss: 1.6610 - val_accuracy: 0.3828\n",
      "Epoch 9/20\n",
      "49/49 [==============================] - 13s 275ms/step - loss: 0.9918 - accuracy: 0.6435 - val_loss: 1.8292 - val_accuracy: 0.3841\n",
      "Epoch 10/20\n",
      "49/49 [==============================] - 13s 273ms/step - loss: 0.9340 - accuracy: 0.6714 - val_loss: 1.8338 - val_accuracy: 0.3726\n",
      "Epoch 11/20\n",
      "49/49 [==============================] - 13s 260ms/step - loss: 0.8473 - accuracy: 0.7054 - val_loss: 1.9138 - val_accuracy: 0.3803\n",
      "Epoch 12/20\n",
      "49/49 [==============================] - 13s 269ms/step - loss: 0.7744 - accuracy: 0.7375 - val_loss: 1.9935 - val_accuracy: 0.3713\n",
      "Epoch 13/20\n",
      "49/49 [==============================] - 13s 277ms/step - loss: 0.7577 - accuracy: 0.7395 - val_loss: 2.1895 - val_accuracy: 0.3624\n",
      "Epoch 14/20\n",
      "49/49 [==============================] - 13s 259ms/step - loss: 0.7170 - accuracy: 0.7533 - val_loss: 2.3211 - val_accuracy: 0.3624\n",
      "Epoch 15/20\n",
      "49/49 [==============================] - 13s 274ms/step - loss: 0.6768 - accuracy: 0.7712 - val_loss: 2.3305 - val_accuracy: 0.3624\n",
      "Epoch 16/20\n",
      "49/49 [==============================] - 14s 279ms/step - loss: 0.6618 - accuracy: 0.7576 - val_loss: 2.5234 - val_accuracy: 0.3662\n",
      "Epoch 17/20\n",
      "49/49 [==============================] - 14s 277ms/step - loss: 0.5956 - accuracy: 0.7852 - val_loss: 2.5709 - val_accuracy: 0.3662\n",
      "Epoch 18/20\n",
      "49/49 [==============================] - 13s 271ms/step - loss: 0.5822 - accuracy: 0.7911 - val_loss: 2.6294 - val_accuracy: 0.3496\n",
      "Epoch 19/20\n",
      "49/49 [==============================] - 14s 288ms/step - loss: 0.5687 - accuracy: 0.8023 - val_loss: 2.7275 - val_accuracy: 0.3688\n",
      "Epoch 20/20\n",
      "49/49 [==============================] - 13s 275ms/step - loss: 0.5512 - accuracy: 0.8081 - val_loss: 2.8475 - val_accuracy: 0.3611\n"
     ]
    }
   ],
   "source": [
    "history = model.fit(train_dataset, epochs = 20 ,validation_data = test_dataset)"
   ]
  },
  {
   "cell_type": "code",
   "execution_count": null,
   "metadata": {},
   "outputs": [],
   "source": []
  }
 ],
 "metadata": {
  "kernelspec": {
   "display_name": "Python 3",
   "language": "python",
   "name": "python3"
  },
  "language_info": {
   "codemirror_mode": {
    "name": "ipython",
    "version": 3
   },
   "file_extension": ".py",
   "mimetype": "text/x-python",
   "name": "python",
   "nbconvert_exporter": "python",
   "pygments_lexer": "ipython3",
   "version": "3.7.6"
  }
 },
 "nbformat": 4,
 "nbformat_minor": 4
}
